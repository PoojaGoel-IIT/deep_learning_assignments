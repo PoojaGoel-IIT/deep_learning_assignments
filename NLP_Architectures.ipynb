{
  "nbformat": 4,
  "nbformat_minor": 0,
  "metadata": {
    "colab": {
      "provenance": [],
      "authorship_tag": "ABX9TyMPMDfao4kKbMYRfkdrP1xs",
      "include_colab_link": true
    },
    "kernelspec": {
      "name": "python3",
      "display_name": "Python 3"
    },
    "language_info": {
      "name": "python"
    },
    "accelerator": "GPU",
    "gpuClass": "standard"
  },
  "cells": [
    {
      "cell_type": "markdown",
      "metadata": {
        "id": "view-in-github",
        "colab_type": "text"
      },
      "source": [
        "<a href=\"https://colab.research.google.com/github/PoojaGoel-IIT/deep_learning_assignments/blob/main/NLP_Architectures.ipynb\" target=\"_parent\"><img src=\"https://colab.research.google.com/assets/colab-badge.svg\" alt=\"Open In Colab\"/></a>"
      ]
    },
    {
      "cell_type": "markdown",
      "source": [
        "[Assignment](https://docs.google.com/document/d/1015q7TN43By8ma-2uWH7A3R_NW8JHILLyvOovMWgjeo/edit?usp=sharing)"
      ],
      "metadata": {
        "id": "ijDP93uvKIpA"
      }
    },
    {
      "cell_type": "code",
      "execution_count": null,
      "metadata": {
        "colab": {
          "base_uri": "https://localhost:8080/"
        },
        "id": "wG_ntUtcnOwU",
        "outputId": "9640ad7b-0ce5-4f7f-e131-a2b322c5e506"
      },
      "outputs": [
        {
          "output_type": "stream",
          "name": "stdout",
          "text": [
            "Looking in indexes: https://pypi.org/simple, https://us-python.pkg.dev/colab-wheels/public/simple/\n",
            "Looking in links: https://download.pytorch.org/whl/torch_stable.html\n",
            "Requirement already satisfied: torch==1.8.0+cu111 in /usr/local/lib/python3.9/dist-packages (1.8.0+cu111)\n",
            "Requirement already satisfied: torchtext==0.9.0 in /usr/local/lib/python3.9/dist-packages (0.9.0)\n",
            "Requirement already satisfied: numpy in /usr/local/lib/python3.9/dist-packages (from torch==1.8.0+cu111) (1.22.4)\n",
            "Requirement already satisfied: typing-extensions in /usr/local/lib/python3.9/dist-packages (from torch==1.8.0+cu111) (4.5.0)\n",
            "Requirement already satisfied: requests in /usr/local/lib/python3.9/dist-packages (from torchtext==0.9.0) (2.27.1)\n",
            "Requirement already satisfied: tqdm in /usr/local/lib/python3.9/dist-packages (from torchtext==0.9.0) (4.65.0)\n",
            "Requirement already satisfied: urllib3<1.27,>=1.21.1 in /usr/local/lib/python3.9/dist-packages (from requests->torchtext==0.9.0) (1.26.15)\n",
            "Requirement already satisfied: idna<4,>=2.5 in /usr/local/lib/python3.9/dist-packages (from requests->torchtext==0.9.0) (3.4)\n",
            "Requirement already satisfied: charset-normalizer~=2.0.0 in /usr/local/lib/python3.9/dist-packages (from requests->torchtext==0.9.0) (2.0.12)\n",
            "Requirement already satisfied: certifi>=2017.4.17 in /usr/local/lib/python3.9/dist-packages (from requests->torchtext==0.9.0) (2022.12.7)\n"
          ]
        }
      ],
      "source": [
        "!pip install -U torch==1.8.0+cu111 torchtext==0.9.0 -f https://download.pytorch.org/whl/torch_stable.html\n"
      ]
    },
    {
      "cell_type": "markdown",
      "source": [
        "Question-1 1A. Download the dataset from the link. We will use the first seven chapters as the training set, next three as validation, and the last two chapters for the test set. Use the sentence and word tokenizer (en_core_web_sm model from SpaCY or NLTK sent_tokenize and word_tokenize). We will append <sos> and <eos> tokens to the beginning and end of the sentence. Report the sizes of the train, val, and test dataset in terms of sequences generated, i.e., the count of sequences.\t\t\t\t\t      \n",
        "[2 Marks]\n"
      ],
      "metadata": {
        "id": "2Wtqym3EraJq"
      }
    },
    {
      "cell_type": "code",
      "source": [
        "import nltk\n",
        "from nltk.tokenize import sent_tokenize, word_tokenize\n",
        "nltk.download('punkt')\n",
        "nltk.download('averaged_perceptron_tagger')\n",
        "nltk.download('tagsets')\n",
        "import urllib.request\n",
        "import torch\n",
        "import torch.nn as nn\n",
        "import torch.optim as optim\n",
        "from torch.utils.data import Dataset, DataLoader\n",
        "# Download the file from the URL\n",
        "url = 'https://www.gutenberg.org/files/1661/1661-0.txt'\n",
        "urllib.request.urlretrieve(url, 'sherlock.txt')\n",
        "import re\n",
        "# Read the text file\n",
        "with open('sherlock.txt', 'r', encoding='utf-8') as f:\n",
        "    text = f.read()\n"
      ],
      "metadata": {
        "colab": {
          "base_uri": "https://localhost:8080/"
        },
        "id": "T6qLFvrVoxwW",
        "outputId": "67694fa8-ecf2-4ac1-9896-d3773f3ea2a3"
      },
      "execution_count": null,
      "outputs": [
        {
          "output_type": "stream",
          "name": "stderr",
          "text": [
            "[nltk_data] Downloading package punkt to /root/nltk_data...\n",
            "[nltk_data]   Package punkt is already up-to-date!\n",
            "[nltk_data] Downloading package averaged_perceptron_tagger to\n",
            "[nltk_data]     /root/nltk_data...\n",
            "[nltk_data]   Package averaged_perceptron_tagger is already up-to-\n",
            "[nltk_data]       date!\n",
            "[nltk_data] Downloading package tagsets to /root/nltk_data...\n",
            "[nltk_data]   Package tagsets is already up-to-date!\n"
          ]
        }
      ]
    },
    {
      "cell_type": "code",
      "source": [
        "\n",
        "chapter_headings = ['I. A SCANDAL IN BOHEMIA','II. THE RED-HEADED LEAGUE','III. A Case of Identity',   'IV. The Boscombe Valley Mystery',\n",
        "                    'V. The Five Orange Pips',  'VI. The Man with the Twisted Lip',  'VII. The Adventure of the Blue Carbuncle',\n",
        "                    'VIII. The Adventure of the Speckled Band',    'IX. The Adventure of the Engineer’s Thumb',\n",
        "                    'X. The Adventure of the Noble Bachelor',    'XI. The Adventure of the Beryl Coronet',    'XII. The Adventure of the Copper Beeches','* END OF THE PROJECT GUTENBERG EBOOK THE ADVENTURES OF SHERLOCK HOLMES *']\n",
        "chapters = [[] for _ in range(len(chapter_headings))]\n",
        "\n",
        "chapter_headings = [heading.upper() for heading in chapter_headings]\n",
        "print(chapter_headings)\n",
        "\n",
        "# Split the text into chapters\n",
        "chapters = [[] for _ in range(len(chapter_headings))]\n",
        "current_chapter = -1\n",
        "for line in text.split('\\n'):\n",
        "    if line in chapter_headings:\n",
        "        current_chapter += 1\n",
        "    if current_chapter >= 0:\n",
        "        chapters[current_chapter].append(line)\n",
        "\n",
        "# Store the contents of all chapters in a list\n",
        "cht_with_text = []\n",
        "for cht in chapters:\n",
        "    cht_with_text.append('\\n'.join(cht))\n",
        "print(\"len of chapters_with_text:\",len(cht_with_text))\n",
        "# print(\"printing text of chapter last\")\n",
        "# print(chapters_with_text[-2])\n"
      ],
      "metadata": {
        "colab": {
          "base_uri": "https://localhost:8080/"
        },
        "id": "HSD5iMdGo45q",
        "outputId": "e078fdeb-5436-411f-bb8b-de796055a5a6"
      },
      "execution_count": null,
      "outputs": [
        {
          "output_type": "stream",
          "name": "stdout",
          "text": [
            "['I. A SCANDAL IN BOHEMIA', 'II. THE RED-HEADED LEAGUE', 'III. A CASE OF IDENTITY', 'IV. THE BOSCOMBE VALLEY MYSTERY', 'V. THE FIVE ORANGE PIPS', 'VI. THE MAN WITH THE TWISTED LIP', 'VII. THE ADVENTURE OF THE BLUE CARBUNCLE', 'VIII. THE ADVENTURE OF THE SPECKLED BAND', 'IX. THE ADVENTURE OF THE ENGINEER’S THUMB', 'X. THE ADVENTURE OF THE NOBLE BACHELOR', 'XI. THE ADVENTURE OF THE BERYL CORONET', 'XII. THE ADVENTURE OF THE COPPER BEECHES', '* END OF THE PROJECT GUTENBERG EBOOK THE ADVENTURES OF SHERLOCK HOLMES *']\n",
            "len of chapters_with_text: 13\n"
          ]
        }
      ]
    },
    {
      "cell_type": "code",
      "source": [
        "# Extract the chapters_with_text for each set\n",
        "train_chapters = cht_with_text[0:7]\n",
        "val_chapters = cht_with_text[7:10]\n",
        "test_chapters = cht_with_text[10:]\n",
        "\n",
        "# Preprocess the text and add <sos> and <eos> tokens\n",
        "def preprocess(text,counter):\n",
        "    sentences = sent_tokenize(text)\n",
        "    processed = []\n",
        "    for sentence in sentences:\n",
        "        words = ['<sos>'] + word_tokenize(sentence.lower()) + ['<eos>']\n",
        "        counter+=1\n",
        "        processed.append(words)\n",
        "    return processed,counter\n",
        "\n",
        "# Preprocess the chapters_with_text for each set\n",
        "train_data = []\n",
        "t_counter=0\n",
        "v_counter=0\n",
        "test_counter=0\n",
        "\n",
        "# Report the sizes of the train, val, and test datasets\n",
        "\n",
        "for cht in train_chapters:\n",
        "    l,t_counter=preprocess(cht,t_counter)\n",
        "    train_data.extend(l)\n",
        "\n",
        "val_data = []\n",
        "for cht in val_chapters:\n",
        "    l,v_counter=preprocess(cht,v_counter)\n",
        "    val_data.extend(l)\n",
        "\n",
        "test_data = []\n",
        "for cht in test_chapters:\n",
        "    l,test_counter=preprocess(cht,test_counter)\n",
        "    test_data.extend(l)\n",
        "\n",
        "# Report the sizes of the train, val, and test datasets\n",
        "print(f\"Train set size: {len(train_data)} sequences and counter\",t_counter)\n",
        "print(f\"Val set size: {len(val_data)} sequences and counter\",v_counter)\n",
        "print(f\"Test set size: {len(test_data)} sequences and counter\",test_counter)"
      ],
      "metadata": {
        "colab": {
          "base_uri": "https://localhost:8080/"
        },
        "id": "35Zy-X3bo90w",
        "outputId": "7c2d713f-1874-43eb-8d56-219b9dfe57d0"
      },
      "execution_count": null,
      "outputs": [
        {
          "output_type": "stream",
          "name": "stdout",
          "text": [
            "Train set size: 2689 sequences and counter 2689\n",
            "Val set size: 1112 sequences and counter 1112\n",
            "Test set size: 1027 sequences and counter 1027\n"
          ]
        }
      ]
    },
    {
      "cell_type": "markdown",
      "source": [
        "Question-1.b Train a many-to-many RNN architecture using pytorch that given a sentence si, generates the next sentence si+1, word-by-word. Use the validation set to find best parameters such as number of layers and hidden dimensions. Train the model till it converges and report the train, val and test loss and perplexity (either torch.exp(torch.nn.functional.cross_entropy) or torcheval.metrics.Perplexity) at each epoch.\n",
        "Marks will be awarded for correct architecture, plots, and the training setup. \t\t[2 +3+1 Marks]\n"
      ],
      "metadata": {
        "id": "SYOgpJPBv1KJ"
      }
    },
    {
      "cell_type": "code",
      "source": [
        "import os\n",
        "import string\n",
        "\n",
        "import time, random, math, string\n",
        "from torchtext.legacy import data\n",
        "import numpy as np\n",
        "import pandas as pd\n",
        "\n",
        "import torch\n",
        "import torch.nn as nn\n",
        "import torch.optim as optim\n",
        "from torchtext.legacy.data import Field, TabularDataset, BucketIterator, Iterator\n",
        "\n",
        "from torchtext.legacy.data import Field, Dataset, Example\n",
        "from torchtext.legacy.datasets import LanguageModelingDataset"
      ],
      "metadata": {
        "id": "-yxUNmrfpkEg"
      },
      "execution_count": null,
      "outputs": []
    },
    {
      "cell_type": "code",
      "source": [
        "tokenizer = lambda x:word_tokenize(x.lower())\n",
        "reverse_tokenizer = lambda x: tokenizer(x)[::-1]\n",
        "\n",
        "SRC = data.Field(tokenize=reverse_tokenizer, init_token='<sos>', eos_token='<eos>', lower=True)\n",
        "TRG = data.Field(tokenize=tokenizer, init_token='<sos>', eos_token='<eos>', lower=True)\n",
        "\n",
        "\n",
        "\n",
        "train_examples = []\n",
        "val_examples = []\n",
        "test_examples = []\n",
        "\n",
        "# Step 3: Create examples for training set\n",
        "for text in train_chapters:\n",
        "    sentences = sent_tokenize(text)\n",
        "    for i in range(len(sentences)-1):\n",
        "        src = sentences[i]\n",
        "        trg = sentences[i+1]\n",
        "        train_examples.append(data.Example.fromlist([src, trg], fields=[('src', SRC), ('trg', TRG)]))\n",
        "\n",
        "# Step 3: Create examples for validation set\n",
        "for text in val_chapters:\n",
        "    sentences = sent_tokenize(text)\n",
        "    for i in range(len(sentences)-1):\n",
        "        src = sentences[i]\n",
        "        trg = sentences[i+1]\n",
        "        val_examples.append(data.Example.fromlist([src, trg], fields=[('src', SRC), ('trg', TRG)]))\n",
        "\n",
        "# Step 3: Create examples for test set\n",
        "for text in test_chapters:\n",
        "    sentences = sent_tokenize(text)\n",
        "    for i in range(len(sentences)-1):\n",
        "        src = sentences[i]\n",
        "        trg = sentences[i+1]\n",
        "        test_examples.append(data.Example.fromlist([src, trg], fields=[('src', SRC), ('trg', TRG)]))\n",
        "# Step 6: Create datasets\n",
        "train_data = Dataset(train_examples, fields=[('src', SRC), ('trg', TRG)])\n",
        "valid_data = Dataset(val_examples, fields=[('src', SRC), ('trg', TRG)])\n",
        "test_data = Dataset(test_examples, fields=[('src', SRC), ('trg', TRG)])"
      ],
      "metadata": {
        "id": "GRMbisZdpo7l"
      },
      "execution_count": null,
      "outputs": []
    },
    {
      "cell_type": "code",
      "source": [
        "print(f\"Number of training examples: {len(train_data.examples)}\")\n",
        "print(f\"Number of validation examples: {len(valid_data.examples)}\")\n",
        "print(f\"Number of test examples: {len(test_data.examples)}\")"
      ],
      "metadata": {
        "colab": {
          "base_uri": "https://localhost:8080/"
        },
        "id": "MDeXQj8jpwy-",
        "outputId": "77184010-96ff-4e38-dac8-2bec1ba572e4"
      },
      "execution_count": null,
      "outputs": [
        {
          "output_type": "stream",
          "name": "stdout",
          "text": [
            "Number of training examples: 2682\n",
            "Number of validation examples: 1109\n",
            "Number of test examples: 1025\n"
          ]
        }
      ]
    },
    {
      "cell_type": "code",
      "source": [
        "SRC.build_vocab(train_data, min_freq=2)\n",
        "TRG.build_vocab(train_data, min_freq=2)\n",
        "\n",
        "print(f\"Unique tokens in source (de) vocabulary: {len(SRC.vocab)}\")\n",
        "print(f\"Unique tokens in target (en) vocabulary: {len(TRG.vocab)}\")"
      ],
      "metadata": {
        "colab": {
          "base_uri": "https://localhost:8080/"
        },
        "id": "JmDSdeIHpyha",
        "outputId": "532abfcc-430c-4ea7-cb7e-bd8df76b0c04"
      },
      "execution_count": null,
      "outputs": [
        {
          "output_type": "stream",
          "name": "stdout",
          "text": [
            "Unique tokens in source (de) vocabulary: 3133\n",
            "Unique tokens in target (en) vocabulary: 3137\n"
          ]
        }
      ]
    },
    {
      "cell_type": "code",
      "source": [
        "device = torch.device('cuda' if torch.cuda.is_available() else 'cpu')\n",
        "\n",
        "BATHC_SIZE = 256\n",
        "# We use a BucketIterator instead of the standard Iterator as it create batches in such a way that it minimizes the amount\n",
        "# of padding in both the source and target sentences.\n",
        "train_iter, valid_iter, test_iter = BucketIterator.splits((train_data, valid_data, test_data),\n",
        "                                                          batch_size=BATHC_SIZE,sort_within_batch=True,\n",
        "                                                        sort_key=lambda x: len(x.src), device=device)"
      ],
      "metadata": {
        "id": "wAXJOd_tp4Qj"
      },
      "execution_count": null,
      "outputs": []
    },
    {
      "cell_type": "code",
      "source": [
        "class Encoder(nn.Module):\n",
        "    def __init__(self, input_dim, emb_dim, hid_dim, n_layers, dropout):\n",
        "        super().__init__()\n",
        "\n",
        "        self.hid_dim = hid_dim\n",
        "        self.n_layers = n_layers\n",
        "\n",
        "        self.embedding = nn.Embedding(input_dim, emb_dim)\n",
        "        self.rnn = nn.RNN(emb_dim, hid_dim, n_layers, dropout=dropout)\n",
        "        self.dropout = nn.Dropout(dropout)\n",
        "\n",
        "    def forward(self,src):\n",
        "        # src : [sen_len, batch_size]\n",
        "        embedded = self.dropout(self.embedding(src))\n",
        "        # embedded : [sen_len, batch_size, emb_dim]\n",
        "        outputs, hidden = self.rnn(embedded)\n",
        "        # outputs = [sen_len, batch_size, hid_dim * n_directions]\n",
        "        # hidden = [n_layers * n_direction, batch_size, hid_dim]\n",
        "        return hidden\n",
        "\n",
        "class Decoder(nn.Module):\n",
        "    def __init__(self, output_dim, emb_dim, hid_dim, n_layers, dropout):\n",
        "        super().__init__()\n",
        "\n",
        "        self.output_dim = output_dim\n",
        "        self.emb_dim = emb_dim\n",
        "        self.hid_dim = hid_dim\n",
        "        self.n_layers = n_layers\n",
        "\n",
        "        self.embedding = nn.Embedding(output_dim, emb_dim)\n",
        "        self.rnn = nn.RNN(emb_dim, hid_dim, num_layers=n_layers, dropout=dropout)\n",
        "        self.fc_out = nn.Linear(hid_dim, output_dim)\n",
        "        self.dropout = nn.Dropout(dropout)\n",
        "\n",
        "    def forward(self, input, hidden):\n",
        "\n",
        "        # one word from all sequences in batches\n",
        "        input = input.unsqueeze(0)\n",
        "        #input = [1, batch size]\n",
        "        embedded = self.dropout(self.embedding(input))\n",
        "        #embedded = [1, batch size, emb dim]\n",
        "        output, hidden = self.rnn(embedded, hidden)\n",
        "        #output = [seq len, batch size, hid dim * n directions]\n",
        "        #hidden = [n layers * n directions, batch size, hid dim]\n",
        "        #seq len and n directions will always be 1 in the decoder, therefore:\n",
        "        #output = [1, batch size, hid dim]\n",
        "        #hidden = [n layers, batch size, hid dim]\n",
        "        prediction = self.fc_out(output.squeeze(0))\n",
        "        #prediction = [batch size, output dim]\n",
        "        return prediction, hidden\n",
        "\n",
        "class Seq2Seq(nn.Module):\n",
        "    def __init__(self, encoder, decoder, device):\n",
        "        super().__init__()\n",
        "\n",
        "        self.encoder = encoder\n",
        "        self.decoder = decoder\n",
        "        self.device = device\n",
        "\n",
        "    def forward(self, src, trg, teacher_forcing_ratio = 0.5):\n",
        "        #src = [src len, batch size]\n",
        "        #trg = [trg len, batch size]\n",
        "\n",
        "        batch_size = trg.shape[1]\n",
        "        trg_len = trg.shape[0]\n",
        "        trg_vocab_size = self.decoder.output_dim\n",
        "\n",
        "        #tensor to store decoder outputs\n",
        "        outputs = torch.zeros(trg_len, batch_size, trg_vocab_size).to(self.device)\n",
        "\n",
        "        #last hidden state of the encoder is used as the initial hidden state of the decoder\n",
        "        hidden = self.encoder(src)\n",
        "\n",
        "        #first input to the decoder is the <sos> tokens\n",
        "        input = trg[0,:]\n",
        "\n",
        "        for t in range(1, trg_len):\n",
        "\n",
        "            #insert input token embedding, previous hidden states\n",
        "            #receive output tensor (predictions) and new hidden states\n",
        "            output, hidden = self.decoder(input, hidden)\n",
        "\n",
        "            #place predictions in a tensor holding predictions for each token\n",
        "            outputs[t] = output\n",
        "\n",
        "            #decide if we are going to use teacher forcing or not\n",
        "            teacher_force = random.random() < teacher_forcing_ratio\n",
        "\n",
        "            #get the highest predicted token from our predictions\n",
        "            top1 = output.argmax(1)\n",
        "\n",
        "            #if teacher forcing, use actual next token as next input\n",
        "            #if not, use predicted token\n",
        "            input = trg[t] if teacher_force else top1\n",
        "\n",
        "        return outputs\n"
      ],
      "metadata": {
        "id": "4jQUUayOp-Qs"
      },
      "execution_count": null,
      "outputs": []
    },
    {
      "cell_type": "code",
      "source": [
        "INPUT_DIM = len(SRC.vocab)\n",
        "OUTPUT_DIM = len(TRG.vocab)\n",
        "ENC_EMB_DIM = 256\n",
        "DEC_EMB_DIM = 256\n",
        "HID_DIM = 512\n",
        "N_LAYERS = 4\n",
        "ENC_DROPOUT = 0.5\n",
        "DEC_DROPOUT = 0.5\n",
        "\n",
        "encoder = Encoder(INPUT_DIM, ENC_EMB_DIM, HID_DIM, N_LAYERS, ENC_DROPOUT)\n",
        "decoder = Decoder(OUTPUT_DIM, DEC_EMB_DIM, HID_DIM, N_LAYERS, DEC_DROPOUT)\n",
        "\n",
        "model = Seq2Seq(encoder, decoder, device).to(device)"
      ],
      "metadata": {
        "id": "4l0euBN6qSTX"
      },
      "execution_count": null,
      "outputs": []
    },
    {
      "cell_type": "code",
      "source": [
        "def init_weights(m):\n",
        "    for name, param in m.named_parameters():\n",
        "        nn.init.uniform_(param.data, -0.08, 0.08)\n",
        "\n",
        "model.apply(init_weights)"
      ],
      "metadata": {
        "colab": {
          "base_uri": "https://localhost:8080/"
        },
        "id": "TPbsIkKHqUYW",
        "outputId": "57c922cb-760c-49b1-dd66-5bbff0cb3df4"
      },
      "execution_count": null,
      "outputs": [
        {
          "output_type": "execute_result",
          "data": {
            "text/plain": [
              "Seq2Seq(\n",
              "  (encoder): Encoder(\n",
              "    (embedding): Embedding(3133, 256)\n",
              "    (rnn): RNN(256, 512, num_layers=4, dropout=0.5)\n",
              "    (dropout): Dropout(p=0.5, inplace=False)\n",
              "  )\n",
              "  (decoder): Decoder(\n",
              "    (embedding): Embedding(3137, 256)\n",
              "    (rnn): RNN(256, 512, num_layers=4, dropout=0.5)\n",
              "    (fc_out): Linear(in_features=512, out_features=3137, bias=True)\n",
              "    (dropout): Dropout(p=0.5, inplace=False)\n",
              "  )\n",
              ")"
            ]
          },
          "metadata": {},
          "execution_count": 36
        }
      ]
    },
    {
      "cell_type": "code",
      "source": [
        "def count_parameters(model):\n",
        "    return sum(p.numel() for p in model.parameters() if p.requires_grad)\n",
        "\n",
        "print(f'The model has {count_parameters(model):,} trainable parameters')"
      ],
      "metadata": {
        "colab": {
          "base_uri": "https://localhost:8080/"
        },
        "id": "BqYie8UOqbVY",
        "outputId": "9a0c8d2d-19b3-4beb-c969-ba39b9aaa31e"
      },
      "execution_count": null,
      "outputs": [
        {
          "output_type": "stream",
          "name": "stdout",
          "text": [
            "The model has 7,154,753 trainable parameters\n"
          ]
        }
      ]
    },
    {
      "cell_type": "code",
      "source": [
        "optimizer = optim.Adam(model.parameters())\n",
        "\n",
        "TRG_PAD_IDX = TRG.vocab.stoi[TRG.pad_token]\n",
        "\n",
        "criterion = nn.CrossEntropyLoss(ignore_index=TRG_PAD_IDX)"
      ],
      "metadata": {
        "id": "b3V7I82_qeoF"
      },
      "execution_count": null,
      "outputs": []
    },
    {
      "cell_type": "code",
      "source": [
        "def train(model, iterator, optimizer, criterion, clip, summaryWriter=None):\n",
        "\n",
        "    model.train()\n",
        "\n",
        "    epoch_loss = 0\n",
        "\n",
        "    for i, batch in enumerate(iterator):\n",
        "        src = batch.src\n",
        "        trg = batch.trg\n",
        "\n",
        "        optimizer.zero_grad()\n",
        "\n",
        "        # trg = [sen_len, batch_size]\n",
        "        # output = [trg_len, batch_size, output_dim]\n",
        "        output = model(src, trg)\n",
        "        output_dim = model.decoder.output_dim\n",
        "\n",
        "        # transfrom our output : slice off the first column, and flatten the output into 2 dim.\n",
        "        output = output[1:].view(-1, output_dim)\n",
        "        trg = trg[1:].view(-1)\n",
        "        # trg = [(trg_len-1) * batch_size]\n",
        "        # output = [(trg_len-1) * batch_size, output_dim]\n",
        "\n",
        "        loss = criterion(output, trg)\n",
        "\n",
        "        loss.backward()\n",
        "\n",
        "        torch.nn.utils.clip_grad_norm_(model.parameters(), clip)\n",
        "\n",
        "        optimizer.step()\n",
        "\n",
        "        epoch_loss += loss.item()\n",
        "        if summaryWriter:\n",
        "          train_step += 1\n",
        "          summaryWriter.add_scalar('training loss vs step', loss, train_step)\n",
        "\n",
        "    return epoch_loss / len(iterator)"
      ],
      "metadata": {
        "id": "WvdP7xS7qlu-"
      },
      "execution_count": null,
      "outputs": []
    },
    {
      "cell_type": "code",
      "source": [
        "def evaluate(model, iterator, criterion, summaryWriter=None):\n",
        "    model.eval()\n",
        "    epoch_loss = 0\n",
        "    with torch.no_grad():\n",
        "        for i, batch in enumerate(iterator):\n",
        "            src = batch.src\n",
        "            trg = batch.trg\n",
        "\n",
        "            # Turn off teacher forcing\n",
        "            output = model(src, trg, 0)\n",
        "\n",
        "            # Flatten output and target\n",
        "            output_dim = model.decoder.output_dim\n",
        "            output = output[1:].view(-1, output_dim)\n",
        "            trg = trg[1:].view(-1)\n",
        "\n",
        "            # Compute loss\n",
        "            loss = criterion(output, trg)\n",
        "            epoch_loss += loss.item()\n",
        "            if summaryWriter:\n",
        "              valid_step += 1\n",
        "              summaryWriter.add_scalar('validation loss vs step', loss, valid_step)\n",
        "\n",
        "    return epoch_loss / len(iterator)"
      ],
      "metadata": {
        "id": "pKWti3XuswD6"
      },
      "execution_count": null,
      "outputs": []
    },
    {
      "cell_type": "code",
      "source": [
        "def epoch_time(start_time, end_time):\n",
        "\n",
        "    elapsed_time = end_time - start_time\n",
        "    elapsed_mins = int(elapsed_time  / 60)\n",
        "    elapsed_secs = int(elapsed_time -  (elapsed_mins * 60))\n",
        "    return  elapsed_mins, elapsed_secs"
      ],
      "metadata": {
        "id": "QA6HiM9Eqr09"
      },
      "execution_count": null,
      "outputs": []
    },
    {
      "cell_type": "code",
      "source": [
        "import time\n",
        "import math\n",
        "import torch\n",
        "import matplotlib.pyplot as plt\n",
        "\n",
        "N_EPOCHS = 15\n",
        "CLIP = 1\n",
        "best_valid_loss = float('inf')\n",
        "train_losses = []\n",
        "train_ppls = []\n",
        "valid_losses = []\n",
        "valid_ppls = []\n",
        "\n",
        "for epoch in range(N_EPOCHS):\n",
        "    start_time = time.time()\n",
        "    train_loss = train(model, train_iter, optimizer, criterion, CLIP, summaryWriter=None)\n",
        "    valid_loss = evaluate(model, valid_iter, criterion, summaryWriter=None)\n",
        "    train_ppl = math.exp(train_loss)\n",
        "    valid_ppl = math.exp(valid_loss)\n",
        "    train_losses.append(train_loss)\n",
        "    train_ppls.append(train_ppl)\n",
        "    valid_losses.append(valid_loss)\n",
        "    valid_ppls.append(valid_ppl)\n",
        "    end_time = time.time()\n",
        "    epoch_mins, epoch_secs = epoch_time(start_time, end_time)\n",
        "    if valid_loss < best_valid_loss:\n",
        "        best_valid_loss = valid_loss\n",
        "        torch.save(model.state_dict(), 'Seq2SeqModel.pt')\n",
        "    print(f\"Epoch: {epoch+1:02} | Time {epoch_mins}m {epoch_secs}s\")\n",
        "    print(f\"\\tTrain Loss: {train_loss:.3f} | Train PPL: {train_ppl:.3f}\")\n",
        "    print(f\"\\tValid Loss: {valid_loss:.3f} | Valid PPL: {valid_ppl:.3f}\")\n",
        "\n",
        "# Plot the training and validation loss\n",
        "plt.plot(train_losses, label='Training loss')\n",
        "plt.plot(valid_losses, label='Validation loss')\n",
        "plt.legend(frameon=False)\n",
        "plt.xlabel('Epoch')\n",
        "plt.ylabel('Loss')\n",
        "plt.show()\n",
        "\n",
        "# Plot the training and validation perplexity\n",
        "plt.plot(train_ppls, label='Training PPL')\n",
        "plt.plot(valid_ppls, label='Validation PPL')\n",
        "plt.legend(frameon=False)\n",
        "plt.xlabel('Epoch')\n",
        "plt.ylabel('Perplexity')\n",
        "plt.show()\n"
      ],
      "metadata": {
        "colab": {
          "base_uri": "https://localhost:8080/",
          "height": 1000
        },
        "id": "Rx962AEiqwaX",
        "outputId": "c23c1490-c67e-4cea-ca4a-17fea08264e8"
      },
      "execution_count": null,
      "outputs": [
        {
          "output_type": "stream",
          "name": "stdout",
          "text": [
            "Epoch: 01 | Time 0m 12s\n",
            "\tTrain Loss: 6.570 | Train PPL: 713.426\n",
            "\tValid Loss: 5.441 | Valid PPL: 230.626\n",
            "Epoch: 02 | Time 0m 12s\n",
            "\tTrain Loss: 6.216 | Train PPL: 500.500\n",
            "\tValid Loss: 5.424 | Valid PPL: 226.873\n",
            "Epoch: 03 | Time 0m 12s\n",
            "\tTrain Loss: 5.653 | Train PPL: 285.282\n",
            "\tValid Loss: 5.393 | Valid PPL: 219.792\n",
            "Epoch: 04 | Time 0m 12s\n",
            "\tTrain Loss: 5.617 | Train PPL: 275.036\n",
            "\tValid Loss: 5.376 | Valid PPL: 216.210\n",
            "Epoch: 05 | Time 0m 12s\n",
            "\tTrain Loss: 5.614 | Train PPL: 274.217\n",
            "\tValid Loss: 5.366 | Valid PPL: 213.997\n",
            "Epoch: 06 | Time 0m 12s\n",
            "\tTrain Loss: 5.611 | Train PPL: 273.372\n",
            "\tValid Loss: 5.370 | Valid PPL: 214.870\n",
            "Epoch: 07 | Time 0m 12s\n",
            "\tTrain Loss: 5.584 | Train PPL: 266.249\n",
            "\tValid Loss: 5.362 | Valid PPL: 213.078\n",
            "Epoch: 08 | Time 0m 12s\n",
            "\tTrain Loss: 5.586 | Train PPL: 266.593\n",
            "\tValid Loss: 5.362 | Valid PPL: 213.234\n",
            "Epoch: 09 | Time 0m 12s\n",
            "\tTrain Loss: 5.574 | Train PPL: 263.456\n",
            "\tValid Loss: 5.349 | Valid PPL: 210.420\n",
            "Epoch: 10 | Time 0m 12s\n",
            "\tTrain Loss: 5.571 | Train PPL: 262.634\n",
            "\tValid Loss: 5.357 | Valid PPL: 212.094\n",
            "Epoch: 11 | Time 0m 12s\n",
            "\tTrain Loss: 5.570 | Train PPL: 262.423\n",
            "\tValid Loss: 5.356 | Valid PPL: 211.810\n",
            "Epoch: 12 | Time 0m 12s\n",
            "\tTrain Loss: 5.566 | Train PPL: 261.502\n",
            "\tValid Loss: 5.360 | Valid PPL: 212.637\n",
            "Epoch: 13 | Time 0m 12s\n",
            "\tTrain Loss: 5.566 | Train PPL: 261.321\n",
            "\tValid Loss: 5.350 | Valid PPL: 210.517\n",
            "Epoch: 14 | Time 0m 12s\n",
            "\tTrain Loss: 5.564 | Train PPL: 260.955\n",
            "\tValid Loss: 5.358 | Valid PPL: 212.313\n",
            "Epoch: 15 | Time 0m 12s\n",
            "\tTrain Loss: 5.560 | Train PPL: 259.780\n",
            "\tValid Loss: 5.360 | Valid PPL: 212.628\n"
          ]
        },
        {
          "output_type": "display_data",
          "data": {
            "text/plain": [
              "<Figure size 640x480 with 1 Axes>"
            ],
            "image/png": "[encoded data removed]"
          },
          "metadata": {}
        },
        {
          "output_type": "display_data",
          "data": {
            "text/plain": [
              "<Figure size 640x480 with 1 Axes>"
            ],
            "image/png": "[encoded data removed]"
          },
          "metadata": {}
        }
      ]
    },
    {
      "cell_type": "code",
      "source": [
        "def test():\n",
        "    best_model = Seq2Seq(encoder, decoder, device).to(device)\n",
        "    best_model.load_state_dict(torch.load('Seq2SeqModel.pt'))\n",
        "\n",
        "    test_loss = evaluate(model, test_iter, criterion)\n",
        "\n",
        "    print(f\"loss in test : {test_loss:.3f} | Test Perplexity: {math.exp(test_loss):7.3f}\")\n",
        "\n",
        "test()"
      ],
      "metadata": {
        "colab": {
          "base_uri": "https://localhost:8080/"
        },
        "id": "8AQ0KVeOq1GD",
        "outputId": "537e2c63-41fd-477c-d640-20c44d1e4906"
      },
      "execution_count": null,
      "outputs": [
        {
          "output_type": "stream",
          "name": "stdout",
          "text": [
            "loss in test : 5.108 | Test Perplexity: 165.270\n"
          ]
        }
      ]
    },
    {
      "cell_type": "markdown",
      "source": [
        "Question-2 Suppose we want to build a LSTM classifier (LSTM + Linear) that, given an input sentence in the stories in the dataset, predicts the story id the input sentence belongs to. As can be observed from the dataset, there are twelve stories. Explain how the training, validation and test set be created. What will be the inputs to the model and outputs? Explain what components will be used in the architecture with a diagram and report relevant dimension sizes of the input and output of each component. What loss function should be used in this task? Use the conventions in the pytorch documentation, L = max_seq_length, N = batch size, D=1, H_in = input_size, H_cell = hidden size, H_out = proj_size.  \t      \n",
        "[2 Marks]\n"
      ],
      "metadata": {
        "id": "FN4R7sxyydMS"
      }
    },
    {
      "cell_type": "markdown",
      "source": [
        "**Answer:**  \n",
        "we need to preprocess the data before feeding to model.\n",
        "\n",
        "**Dataset Split and tokenization**:\n",
        "\n",
        "We do sentence and word tokenization\n",
        "Dataset will be X,Y where xi is ith sentences and yi is true label of the corresponding sentence.\n",
        "yi belongs to {1-12)\n",
        "we shuffle and split the dataset into train, test and validation set. Ratio 60:20:20.\n",
        "\n",
        "**Input and Output:**\n",
        "\n",
        "Inputs to the LSTM classifier: Sentences from the stories in the dataset\n",
        "Outputs from the LSTM classifier: Predicted story ID for each input sentence\n",
        "\n",
        "\n",
        "**LSTM + LINEAR Architecture:**\n",
        "\n",
        "            +-----------------------------------+\n",
        "\n",
        "            |           Input Sentence          |\n",
        "            |                (N,L)              |\n",
        "            +------------------+----------------+\n",
        "                               |\n",
        "            +------------------v----------------+\n",
        "            |            Word Embedding         |\n",
        "            |           (N,L) ->(N,L,H_in)      |\n",
        "            +-------------------+---------------+\n",
        "                                |\n",
        "            +-------------------v---------------+\n",
        "            |                 LSTM              |\n",
        "            |         (N,L,H_in)->(N,L,h_cell)  |\n",
        "            +-------------------+---------------+\n",
        "                                |\n",
        "            +--------------------v--------------+\n",
        "            |      Projection layer dimensions  |\n",
        "            |       (L,N,H_Cell)->(L,N,H_out)   |\n",
        "            +-------------------+---------------+\n",
        "                                |\n",
        "            +-------------------v---------------+          \n",
        "            |               Linear Layer        |\n",
        "            |   (N*L,H_out)->(N*L, num_stories) |\n",
        "            +------------------+----------------+\n",
        "                               |\n",
        "            +-------------------v---------------+\n",
        "            |          Softmax Activation       |\n",
        "            |          (N, num_stories)         |\n",
        "            +------------------+----------------+\n",
        "\n",
        "\n",
        "Input (N,L)\n",
        "Embedding layer : converts words in to word embedding\n",
        "(N,L)  -> (N,L,H_in)\n",
        "\n",
        "LSTM layer dimensions:\n",
        "(N,L,H_in) -> (N,L,H_cell)\n",
        "\n",
        "Projection layer dimensions: to reduce the dimensionality\n",
        "(L,N,H_cell) -> (L,N,H_out)\n",
        "\n",
        "Linear layer: flatten output obtained then input to linear layer then applying Softmax activaiton function\n",
        "(N*L,H_out) -> (N*L, num_stories)\n",
        "\n",
        "y_out = argmax (probability of each story id)\n",
        "\n",
        "where num_stories = 12\n",
        " L = max_seq_length,\n",
        " N = batch size, D=1,\n",
        " H_in = input_size,\n",
        " H_cell = hidden size,\n",
        " H_out = proj_size.\n",
        "\n",
        "**Loss Function:**\n",
        "\n",
        "categorical Cross-Entropy Loss: This is a common loss function used for multi-class classification tasks, which calculates the loss between the predicted probabilities and the true labels (story IDs) for each input sentence\n"
      ],
      "metadata": {
        "id": "kWzKhhZN9kow"
      }
    }
  ]
}